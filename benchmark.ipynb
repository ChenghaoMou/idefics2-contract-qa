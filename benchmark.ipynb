{
 "cells": [
  {
   "cell_type": "code",
   "metadata": {
    "execution": {
     "iopub.execute_input": "2024-06-22T10:08:49.594214Z",
     "iopub.status.busy": "2024-06-22T10:08:49.593404Z",
     "iopub.status.idle": "2024-06-22T10:08:49.597230Z",
     "shell.execute_reply": "2024-06-22T10:08:49.596529Z",
     "shell.execute_reply.started": "2024-06-22T10:08:49.594184Z"
    },
    "id": "f6NjAgS7lJN3"
   },
   "source": "# !pip install -q -U pillow git+https://github.com/huggingface/transformers git+https://github.com/huggingface/peft.git datasets pymupdf bitsandbytes seaborn matplotlib",
   "outputs": [],
   "execution_count": null
  },
  {
   "metadata": {},
   "cell_type": "markdown",
   "source": "## Load Dataset"
  },
  {
   "cell_type": "code",
   "metadata": {
    "execution": {
     "iopub.execute_input": "2024-06-22T09:08:30.936066Z",
     "iopub.status.busy": "2024-06-22T09:08:30.935838Z",
     "iopub.status.idle": "2024-06-22T09:08:32.599090Z",
     "shell.execute_reply": "2024-06-22T09:08:32.598328Z",
     "shell.execute_reply.started": "2024-06-22T09:08:30.936049Z"
    },
    "id": "3hByVlQ5lOAi"
   },
   "source": [
    "from datasets import load_dataset\n",
    "\n",
    "ds = load_dataset(\"chenghao/sec-material-contracts-qa-splitted\")"
   ],
   "outputs": [],
   "execution_count": null
  },
  {
   "metadata": {},
   "cell_type": "markdown",
   "source": "## Load Model"
  },
  {
   "cell_type": "code",
   "metadata": {
    "execution": {
     "iopub.execute_input": "2024-06-22T09:08:35.144274Z",
     "iopub.status.busy": "2024-06-22T09:08:35.143818Z",
     "iopub.status.idle": "2024-06-22T09:09:32.673126Z",
     "shell.execute_reply": "2024-06-22T09:09:32.672531Z",
     "shell.execute_reply.started": "2024-06-22T09:08:35.144247Z"
    },
    "id": "3lifBpcTl4rR"
   },
   "source": [
    "import torch\n",
    "from transformers import AutoProcessor, Idefics2ForConditionalGeneration, BitsAndBytesConfig\n",
    "\n",
    "base_model = \"HuggingFaceM4/idefics2-8b\"\n",
    "# peft_model_id = \"chenghao/idefics2-edgar\"\n",
    "peft_model_id = \"HuggingFaceM4/idefics2-8b\"\n",
    "\n",
    "quantization_config = BitsAndBytesConfig(\n",
    "    load_in_4bit=True,\n",
    "    bnb_4bit_quant_type=\"nf4\",\n",
    "    bnb_4bit_use_double_quant=True,\n",
    "    bnb_4bit_compute_dtype=torch.float16\n",
    ")\n",
    "model = Idefics2ForConditionalGeneration.from_pretrained(\n",
    "    peft_model_id,\n",
    "    torch_dtype=torch.float16,\n",
    "    quantization_config=quantization_config,\n",
    ")\n",
    "\n",
    "model.eval()"
   ],
   "outputs": [],
   "execution_count": null
  },
  {
   "metadata": {},
   "cell_type": "markdown",
   "source": "## Evaluation"
  },
  {
   "cell_type": "code",
   "metadata": {
    "execution": {
     "iopub.execute_input": "2024-06-22T09:09:32.674730Z",
     "iopub.status.busy": "2024-06-22T09:09:32.674183Z",
     "iopub.status.idle": "2024-06-22T09:41:01.836607Z",
     "shell.execute_reply": "2024-06-22T09:41:01.836051Z",
     "shell.execute_reply.started": "2024-06-22T09:09:32.674708Z"
    },
    "id": "vSD2-LR4_D0C"
   },
   "source": [
    "from tqdm.auto import tqdm\n",
    "import time\n",
    "\n",
    "processor = AutoProcessor.from_pretrained(\n",
    "    base_model,\n",
    "    do_image_splitting=False,\n",
    "    size={\"longest_edge\": 490, \"shortest_edge\": 350}\n",
    ")\n",
    "\n",
    "def evaluate():\n",
    "    \n",
    "    questions = []\n",
    "    answers = []\n",
    "    predictions = []\n",
    "    start_time = time.time()\n",
    "    \n",
    "    for example in tqdm(ds[\"test\"]):\n",
    "        images = example[\"images\"][:2] + example[\"images\"][-2:]\n",
    "        question, answer = example[\"question\"], example[\"answer\"]\n",
    "        \n",
    "        messages = [\n",
    "            {\n",
    "                \"role\": \"user\",\n",
    "                \"content\": [{\"type\": \"image\"} for _ in range(len(images))] + [{\"type\": \"text\", \"text\": question}],\n",
    "            },\n",
    "        ]\n",
    "\n",
    "        prompt = processor.apply_chat_template(messages, add_generation_prompt=True)\n",
    "        inputs = processor(text=prompt, images=images, return_tensors=\"pt\").to(\"cuda\")\n",
    "        with torch.no_grad():\n",
    "            generated_ids = model.generate(**inputs, max_new_tokens=1024)\n",
    "        generated_texts = processor.batch_decode(generated_ids, skip_special_tokens=True)\n",
    "        preds = [t.split(\"Assistant:\", 1)[-1].strip() for t in generated_texts]\n",
    "\n",
    "        questions.append(question)\n",
    "        answers.append(answer)\n",
    "        predictions.append(preds[0])\n",
    "    \n",
    "    return questions, answers, predictions\n",
    "\n",
    "questions, answers, predictions = evaluate()"
   ],
   "outputs": [],
   "execution_count": null
  },
  {
   "cell_type": "code",
   "metadata": {
    "execution": {
     "iopub.execute_input": "2024-06-22T10:09:23.614295Z",
     "iopub.status.busy": "2024-06-22T10:09:23.613412Z",
     "iopub.status.idle": "2024-06-22T10:09:23.616924Z",
     "shell.execute_reply": "2024-06-22T10:09:23.616391Z",
     "shell.execute_reply.started": "2024-06-22T10:09:23.614266Z"
    }
   },
   "source": [
    "# answers[:10], predictions[:10]"
   ],
   "outputs": [],
   "execution_count": null
  },
  {
   "cell_type": "code",
   "metadata": {
    "execution": {
     "iopub.execute_input": "2024-06-22T10:08:09.340736Z",
     "iopub.status.busy": "2024-06-22T10:08:09.340274Z",
     "iopub.status.idle": "2024-06-22T10:08:09.345779Z",
     "shell.execute_reply": "2024-06-22T10:08:09.345383Z",
     "shell.execute_reply.started": "2024-06-22T10:08:09.340717Z"
    }
   },
   "source": [
    "from nltk import edit_distance\n",
    "import numpy as np\n",
    "from collections import defaultdict\n",
    "\n",
    "key2question = {\n",
    "    \"agreement_date\": \"When is the signing date of this agreement?\",\n",
    "    \"effective_date\": \"When is the effective date of the contract?\",\n",
    "    \"expiration_date\": \"When is the service end date or expiration date of the contract?\",\n",
    "    \"party_address\": \"What is the address of the party to the contract?\",\n",
    "    \"party_name\": \"What are the names of the contracting party?\",\n",
    "    \"counterparty_address\": \"What is the address of the counterparty to the contract?\",\n",
    "    \"counterparty_name\": \"What are the names of the contracting counterparty?\",\n",
    "    \"counterparty_signer_name\": \"What is the name of the counterparty signer for each party to the agreement?\",\n",
    "    \"counterparty_signer_title\": \"What is the counterparty signer’s title?\",\n",
    "    \"auto_renewal\": \"Whether the contract term automatically renews (true/false).\",\n",
    "    \"governing_law\": \"Where is the jurisdiction or choice of law?\",\n",
    "    \"venue\": \"where is the location of the courts where legal proceedings will take place?\",\n",
    "    \"payment_frequency\": \"what is the cadence for which payments are made (e.g., monthly, annually, one-time)?\",\n",
    "    \"payment_term\": \"When an invoice is due after issuance (e.g. Net 30)?\",\n",
    "    \"renewal_term\": \"What is the length of time the renewal period will last (e.g., 1 year, 2 years, 24 months etc.)?\",\n",
    "    \"agreement_term\": \"What is the term of the contract as an amount of time (e.g., 24 months)?\",\n",
    "    \"termination_for_cause\": \"Whether one or all parties may terminate the contract with cause, such as a breach of contract (true/false).\",\n",
    "    \"termination_for_convenience\": \"Whether one or all parties may terminate the contract without cause, or at their convenience (true/false).\",\n",
    "    \"termination_notice_period\": \"What is the period by which notice of termination must be given (e.g., 30 days)?\",\n",
    "    \"opt_out_length\": \"What is the required notice period to NOT renew (e.g., 30 days)?\",\n",
    "    \"contract_value\": \"What is the total fixed fee amount including currency codes or symbols?\",\n",
    "}\n",
    "question2key = {q: k for k, q in key2question.items()}\n",
    "\n",
    "def calculate_edit_distance(questions, answers, predictions):\n",
    "    scores = defaultdict(list)\n",
    "    for question, pred, answer in tqdm(zip(questions, predictions, answers), total=len(answers)):\n",
    "        if question not in question2key:\n",
    "            continue\n",
    "        question = question2key[question]\n",
    "        scores[question].append(edit_distance(pred, answer) / max(len(pred), len(answer)))\n",
    "    return {question: np.mean(values) for question, values in scores.items()}, np.mean([v for values in scores.values() for v in values])"
   ],
   "outputs": [],
   "execution_count": null
  },
  {
   "cell_type": "code",
   "metadata": {
    "execution": {
     "iopub.execute_input": "2024-06-22T09:41:03.416958Z",
     "iopub.status.busy": "2024-06-22T09:41:03.416827Z",
     "iopub.status.idle": "2024-06-22T09:41:03.422118Z",
     "shell.execute_reply": "2024-06-22T09:41:03.421567Z",
     "shell.execute_reply.started": "2024-06-22T09:41:03.416943Z"
    }
   },
   "source": [
    "# import json\n",
    "\n",
    "# with open(\"base.json\", \"w\") as f:\n",
    "#     f.write(json.dumps({\n",
    "#         \"questions\": questions,\n",
    "#         \"answers\": answers,\n",
    "#         \"predictions\": predictions,\n",
    "#     }))"
   ],
   "outputs": [],
   "execution_count": null
  },
  {
   "cell_type": "code",
   "metadata": {
    "execution": {
     "iopub.execute_input": "2024-06-22T09:43:34.683976Z",
     "iopub.status.busy": "2024-06-22T09:43:34.683205Z",
     "iopub.status.idle": "2024-06-22T09:43:34.687245Z",
     "shell.execute_reply": "2024-06-22T09:43:34.686535Z",
     "shell.execute_reply.started": "2024-06-22T09:43:34.683938Z"
    },
    "id": "ZazjHAI3E1bH"
   },
   "source": [
    "# {'counterparty_name': 0.6333587323616815,\n",
    " # 'effective_date': 0.12564102564102564,\n",
    " # 'payment_frequency': 0.3737244897959184,\n",
    " # 'agreement_date': 0.0999478526464782,\n",
    " # 'governing_law': 0.30877104014358914,\n",
    " # 'party_address': 0.6083013068679771,\n",
    " # 'termination_for_cause': 0.04800000000000001,\n",
    " # 'venue': 0.614029648733949,\n",
    " # 'party_name': 0.4901937256717742,\n",
    " # 'renewal_term': 0.05952380952380952,\n",
    " # 'expiration_date': 0.23519736842105257,\n",
    " # 'auto_renewal': 0.05161290322580645,\n",
    " # 'counterparty_signer_name': 0.4804435106679111,\n",
    " # 'termination_for_convenience': 0.1565217391304348,\n",
    " # 'agreement_term': 0.4388158040994175,\n",
    " # 'termination_notice_period': 0.1783935413245758,\n",
    " # 'counterparty_signer_title': 0.4960412079943858,\n",
    " # 'counterparty_address': 0.5983504545337417,\n",
    " # 'contract_value': 0.4188154703882048,\n",
    " # 'payment_term': 0.5933333333333334,\n",
    " # 'opt_out_length': 0.047619047619047616}\n",
    "\n",
    "# {'counterparty_name': 0.8254906089175902,\n",
    "#  'effective_date': 0.9032678569638961,\n",
    "#  'payment_frequency': 0.6861225538105238,\n",
    "#  'agreement_date': 0.8784888955727604,\n",
    "#  'governing_law': 0.8810370791576468,\n",
    "#  'party_address': 0.7308967559080009,\n",
    "#  'termination_for_cause': 0.43599999999999994,\n",
    "#  'venue': 0.7814165648930487,\n",
    "#  'party_name': 0.7264106186433235,\n",
    "#  'renewal_term': 0.928290301068474,\n",
    "#  'expiration_date': 0.8867295058561521,\n",
    "#  'auto_renewal': 0.6349462365591401,\n",
    "#  'counterparty_signer_name': 0.8420912525335033,\n",
    "#  'termination_for_convenience': 0.6282608695652173,\n",
    "#  'agreement_term': 0.9070674746697442,\n",
    "#  'termination_notice_period': 0.3297482211275315,\n",
    "#  'counterparty_signer_title': 0.6174595001757442,\n",
    "#  'counterparty_address': 0.7713865641438143,\n",
    "#  'contract_value': 0.47443779675428815,\n",
    "#  'payment_term': 0.8545520817994479,\n",
    "#  'opt_out_length': 0.43154761904761907}"
   ],
   "outputs": [],
   "execution_count": null
  },
  {
   "metadata": {},
   "cell_type": "markdown",
   "source": "## Comparison"
  },
  {
   "cell_type": "code",
   "metadata": {
    "execution": {
     "iopub.execute_input": "2024-06-22T10:08:14.232700Z",
     "iopub.status.busy": "2024-06-22T10:08:14.231872Z",
     "iopub.status.idle": "2024-06-22T10:08:16.000948Z",
     "shell.execute_reply": "2024-06-22T10:08:16.000534Z",
     "shell.execute_reply.started": "2024-06-22T10:08:14.232674Z"
    },
    "id": "pU9PkvmZDFP7"
   },
   "source": [
    "import seaborn as sns\n",
    "import pandas as pd\n",
    "import matplotlib.pyplot as plt\n",
    "import json\n",
    "from tqdm import tqdm\n",
    "\n",
    "def calculate_df(file1, file2):\n",
    "    \n",
    "    with open(file1) as f:\n",
    "        d1 = json.load(f)\n",
    "        r1, a1 = calculate_edit_distance(d1['questions'], d1['answers'], d1['predictions'])\n",
    "    \n",
    "    \n",
    "    with open(file2) as f:\n",
    "        d2 = json.load(f)\n",
    "        r2, a2 = calculate_edit_distance(d2['questions'], d2['answers'], d2['predictions'])\n",
    "    \n",
    "    print(f\"{(a1-a2)/a1*100:.2f}%\")\n",
    "    records = []\n",
    "    name = {\n",
    "        \"base\": \"Idefics2-8B\",\n",
    "        \"finetuned\": \"Idefics2-8B-EDGAR\"\n",
    "    }\n",
    "    for key, value in r1.items():\n",
    "        n = name[file1.replace(\".json\", \"\")]\n",
    "        records.append((key, value, n))\n",
    "    for key, value in r2.items():\n",
    "        n = name[file2.replace(\".json\", \"\")]\n",
    "        records.append((key, value, n))\n",
    "    \n",
    "    return pd.DataFrame(records, columns=[\"category\", \"value\", \"model\"])\n",
    "\n",
    "\n",
    "sns.set(font_scale=1.4)\n",
    "fig, ax = plt.subplots(figsize=(20, 20))\n",
    "df = calculate_df(\"base.json\", \"finetuned.json\")\n",
    "sns.barplot(y=df.category, x=df.value, hue=df.model, ax=ax)\n",
    "ax.set_xlabel(\"Average Edit Distance (lower is better)\")\n",
    "ax.set_ylabel(\"Category\")\n",
    "\n",
    "ax.set_title(\"Comparison between base and finetuned model\")"
   ],
   "outputs": [],
   "execution_count": null
  },
  {
   "cell_type": "code",
   "metadata": {
    "execution": {
     "iopub.execute_input": "2024-06-22T10:20:46.490952Z",
     "iopub.status.busy": "2024-06-22T10:20:46.490062Z",
     "iopub.status.idle": "2024-06-22T10:20:46.506067Z",
     "shell.execute_reply": "2024-06-22T10:20:46.505697Z",
     "shell.execute_reply.started": "2024-06-22T10:20:46.490922Z"
    }
   },
   "source": [
    "data = []\n",
    "for category, row in df.groupby(\"category\"):\n",
    "    base = row[row[\"model\"] == \"Idefics2-8B\"][\"value\"].iloc[0]\n",
    "    after = row[row[\"model\"] != \"Idefics2-8B\"][\"value\"].iloc[0]\n",
    "    delta = (base - after) / base\n",
    "    data.append((category, base, after, f\"{delta * 100:.2f}%\"))\n",
    "\n",
    "print(pd.DataFrame(data, columns=[\"Category\", \"Idefics2-8B\", \"Idefics2-8B-EDGAR\", \"Δ(↑)\"]).to_markdown())"
   ],
   "outputs": [],
   "execution_count": null
  },
  {
   "cell_type": "code",
   "metadata": {},
   "source": [],
   "outputs": [],
   "execution_count": null
  }
 ],
 "metadata": {
  "accelerator": "GPU",
  "colab": {
   "gpuType": "T4",
   "private_outputs": true,
   "provenance": []
  },
  "kernelspec": {
   "display_name": "Python 3 (ipykernel)",
   "language": "python",
   "name": "python3"
  },
  "language_info": {
   "codemirror_mode": {
    "name": "ipython",
    "version": 3
   },
   "file_extension": ".py",
   "mimetype": "text/x-python",
   "name": "python",
   "nbconvert_exporter": "python",
   "pygments_lexer": "ipython3",
   "version": "3.11.7"
  }
 },
 "nbformat": 4,
 "nbformat_minor": 4
}
