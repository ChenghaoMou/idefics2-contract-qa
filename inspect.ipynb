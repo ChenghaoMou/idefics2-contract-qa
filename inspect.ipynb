{
 "cells": [
  {
   "cell_type": "code",
   "metadata": {
    "execution": {
     "iopub.execute_input": "2024-06-22T10:08:49.594214Z",
     "iopub.status.busy": "2024-06-22T10:08:49.593404Z",
     "iopub.status.idle": "2024-06-22T10:08:49.597230Z",
     "shell.execute_reply": "2024-06-22T10:08:49.596529Z",
     "shell.execute_reply.started": "2024-06-22T10:08:49.594184Z"
    },
    "id": "f6NjAgS7lJN3"
   },
   "source": "# !pip install -q -U pillow git+https://github.com/huggingface/transformers git+https://github.com/huggingface/peft.git datasets pymupdf bitsandbytes seaborn matplotlib",
   "outputs": [],
   "execution_count": null
  },
  {
   "metadata": {},
   "cell_type": "markdown",
   "source": "## Load Data"
  },
  {
   "cell_type": "code",
   "metadata": {
    "execution": {
     "iopub.execute_input": "2024-06-22T09:08:30.936066Z",
     "iopub.status.busy": "2024-06-22T09:08:30.935838Z",
     "iopub.status.idle": "2024-06-22T09:08:32.599090Z",
     "shell.execute_reply": "2024-06-22T09:08:32.598328Z",
     "shell.execute_reply.started": "2024-06-22T09:08:30.936049Z"
    },
    "id": "3hByVlQ5lOAi",
    "ExecuteTime": {
     "end_time": "2024-06-23T12:49:21.908660Z",
     "start_time": "2024-06-23T12:49:21.895198Z"
    }
   },
   "source": [
    "from PIL import Image\n",
    "\n",
    "img = Image.open(\"/Users/chenghao/Desktop/WechatIMG18.jpg\")"
   ],
   "outputs": [],
   "execution_count": 1
  },
  {
   "metadata": {},
   "cell_type": "markdown",
   "source": "## Load Model"
  },
  {
   "cell_type": "code",
   "metadata": {
    "execution": {
     "iopub.execute_input": "2024-06-22T09:08:35.144274Z",
     "iopub.status.busy": "2024-06-22T09:08:35.143818Z",
     "iopub.status.idle": "2024-06-22T09:09:32.673126Z",
     "shell.execute_reply": "2024-06-22T09:09:32.672531Z",
     "shell.execute_reply.started": "2024-06-22T09:08:35.144247Z"
    },
    "id": "3lifBpcTl4rR"
   },
   "source": [
    "import torch\n",
    "from transformers import AutoProcessor, Idefics2ForConditionalGeneration, BitsAndBytesConfig\n",
    "\n",
    "base_model = \"HuggingFaceM4/idefics2-8b\"\n",
    "# peft_model_id = \"chenghao/idefics2-edgar\"\n",
    "peft_model_id = \"HuggingFaceM4/idefics2-8b\"\n",
    "\n",
    "quantization_config = BitsAndBytesConfig(\n",
    "    load_in_4bit=True,\n",
    "    bnb_4bit_quant_type=\"nf4\",\n",
    "    bnb_4bit_use_double_quant=True,\n",
    "    bnb_4bit_compute_dtype=torch.float16\n",
    ")\n",
    "model = Idefics2ForConditionalGeneration.from_pretrained(\n",
    "    peft_model_id,\n",
    "    torch_dtype=torch.float16,\n",
    "    quantization_config=quantization_config,\n",
    ")\n",
    "\n",
    "model.eval()"
   ],
   "outputs": [],
   "execution_count": null
  },
  {
   "metadata": {},
   "cell_type": "markdown",
   "source": "## Evaluation"
  },
  {
   "cell_type": "code",
   "metadata": {
    "execution": {
     "iopub.execute_input": "2024-06-22T09:09:32.674730Z",
     "iopub.status.busy": "2024-06-22T09:09:32.674183Z",
     "iopub.status.idle": "2024-06-22T09:41:01.836607Z",
     "shell.execute_reply": "2024-06-22T09:41:01.836051Z",
     "shell.execute_reply.started": "2024-06-22T09:09:32.674708Z"
    },
    "id": "vSD2-LR4_D0C"
   },
   "source": [
    "from tqdm.auto import tqdm\n",
    "import time\n",
    "\n",
    "processor = AutoProcessor.from_pretrained(\n",
    "    base_model,\n",
    "    do_image_splitting=True,\n",
    "    # size={\"longest_edge\": 490, \"shortest_edge\": 350}\n",
    ")\n",
    "images = [img]\n",
    "question = \"Convert the table into HTML code\"\n",
    "messages = [\n",
    "    {\n",
    "        \"role\": \"user\",\n",
    "        \"content\": [{\"type\": \"image\"} for _ in range(len(images))] + [{\"type\": \"text\", \"text\": question}],\n",
    "    },\n",
    "]\n",
    "\n",
    "prompt = processor.apply_chat_template(messages, add_generation_prompt=True)\n",
    "inputs = processor(text=prompt, images=images, return_tensors=\"pt\").to(\"cuda\")\n",
    "with torch.no_grad():\n",
    "    generated_ids = model.generate(**inputs, max_new_tokens=2048)\n",
    "generated_texts = processor.batch_decode(generated_ids, skip_special_tokens=True)\n",
    "preds = [t.split(\"Assistant:\", 1)[-1].strip() for t in generated_texts]"
   ],
   "outputs": [],
   "execution_count": null
  }
 ],
 "metadata": {
  "accelerator": "GPU",
  "colab": {
   "gpuType": "T4",
   "private_outputs": true,
   "provenance": []
  },
  "kernelspec": {
   "display_name": "Python 3 (ipykernel)",
   "language": "python",
   "name": "python3"
  },
  "language_info": {
   "codemirror_mode": {
    "name": "ipython",
    "version": 3
   },
   "file_extension": ".py",
   "mimetype": "text/x-python",
   "name": "python",
   "nbconvert_exporter": "python",
   "pygments_lexer": "ipython3",
   "version": "3.11.7"
  }
 },
 "nbformat": 4,
 "nbformat_minor": 4
}
