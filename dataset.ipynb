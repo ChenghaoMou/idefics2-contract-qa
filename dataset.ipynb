{
 "cells": [
  {
   "metadata": {},
   "cell_type": "code",
   "source": "# !pip install -q datasets pymupdf openai python-dotenv langchain langchain-openai pillow trafilatura weasyprint",
   "id": "bab71a2d4185e548",
   "outputs": [],
   "execution_count": null
  },
  {
   "metadata": {},
   "cell_type": "markdown",
   "source": [
    "## Load Raw Dataset\n",
    "\n",
    "Load the contracts with raw HTML code."
   ],
   "id": "5a6e6b808e5f8bf0"
  },
  {
   "cell_type": "code",
   "id": "initial_id",
   "metadata": {
    "collapsed": true
   },
   "source": [
    "import datetime\n",
    "import time\n",
    "from urllib.parse import urljoin\n",
    "\n",
    "import fitz\n",
    "import tqdm\n",
    "from bs4 import BeautifulSoup\n",
    "from datasets import load_dataset\n",
    "from dotenv import load_dotenv\n",
    "from langchain_core.messages import HumanMessage, SystemMessage\n",
    "from langchain_core.pydantic_v1 import BaseModel, Field\n",
    "from langchain_openai import ChatOpenAI\n",
    "from trafilatura import html2txt\n",
    "from weasyprint import HTML\n",
    "\n",
    "source_repo = \"chenghao/sec-material-contracts\"\n",
    "dataset = load_dataset(source_repo)"
   ],
   "outputs": [],
   "execution_count": null
  },
  {
   "metadata": {},
   "cell_type": "markdown",
   "source": "### Convert HTML to PDF and Images",
   "id": "8257fb9f84252dda"
  },
  {
   "metadata": {},
   "cell_type": "code",
   "source": [
    "def convert_relative_url_to_absolute_url(base_url, html):\n",
    "    soup = BeautifulSoup(html, \"html.parser\")\n",
    "    for tag in soup.find_all(\"a\", href=True):\n",
    "        tag[\"href\"] = urljoin(base_url, tag[\"href\"])\n",
    "    for tag in soup.find_all(\"img\", src=True):\n",
    "        tag[\"src\"] = urljoin(base_url, tag[\"src\"])\n",
    "    return str(soup)\n",
    "\n",
    "\n",
    "def convert_html_to_pdf(html):\n",
    "    doc = fitz.Document(stream=io.BytesIO(HTML(string=html).write_pdf()), filetype=\"pdf\")\n",
    "    images = [page.get_pixmap(dpi=120) for page in doc]\n",
    "    images = [Image.frombytes(\"RGB\", (image.width, image.height), image.samples) for image in images]\n",
    "    page_text = [page.get_text() for page in doc]\n",
    "\n",
    "    return page_text, images"
   ],
   "id": "5ca8e410df5bac1a",
   "outputs": [],
   "execution_count": null
  },
  {
   "metadata": {},
   "cell_type": "code",
   "source": [
    "def extract_text(record):\n",
    "    file_content = record['file_content']\n",
    "\n",
    "    if not file_content:\n",
    "        return {\"full_text\": \"\", \"images\": [], \"page_text\": [], \"html_content\": \"\"}\n",
    "\n",
    "    file_content_lower = file_content.lower()\n",
    "    if \"<html>\" not in file_content_lower or \"</html>\" not in file_content_lower:\n",
    "        return {\"full_text\": \"\", \"images\": [], \"page_text\": [], \"html_content\": \"\"}\n",
    "\n",
    "    left = file_content_lower.index(\"<html>\")\n",
    "    right = file_content_lower.index(\"</html>\")\n",
    "    html_content = file_content[left + len(\"<html>\"):right]\n",
    "\n",
    "    full_text = html2txt(html_content)\n",
    "    index_url = record['index_html_url']\n",
    "    base_url = index_url.replace(\"-index.html\", \"\").replace(\"-\", \"\") + \"/\"\n",
    "    html_content = convert_relative_url_to_absolute_url(base_url, html_content)\n",
    "    page_text, images = convert_html_to_pdf(html_content)\n",
    "\n",
    "    return {\"full_text\": full_text, \"images\": images, \"page_text\": page_text, \"html_content\": html_content}"
   ],
   "id": "3ac7ba1295240f6f",
   "outputs": [],
   "execution_count": null
  },
  {
   "metadata": {},
   "cell_type": "markdown",
   "source": "### Sample Documents",
   "id": "2abde31a58695446"
  },
  {
   "metadata": {},
   "cell_type": "code",
   "source": [
    "cutoff = datetime.datetime(2024, 1, 1)\n",
    "sample = dataset['train'].filter(lambda x: x['date'] >= cutoff)\n",
    "sample = sample.map(lambda x: extract_text(x), num_proc=8)"
   ],
   "id": "635da0e740ff5471",
   "outputs": [],
   "execution_count": null
  },
  {
   "metadata": {},
   "cell_type": "code",
   "source": [
    "final_sample = sample.filter(\n",
    "    lambda x: x['full_text'] and 1 <= len(x['page_text']) <= 20 and min(map(len, x['page_text'])) >= 50, num_proc=8)"
   ],
   "id": "2d124c3fb7aa13a7",
   "outputs": [],
   "execution_count": null
  },
  {
   "metadata": {},
   "cell_type": "markdown",
   "source": "### Extract Key Information with OpenAI",
   "id": "22d3ca7ec63f3ddd"
  },
  {
   "metadata": {},
   "cell_type": "code",
   "source": [
    "# https://support.ironcladapp.com/hc/en-us/articles/12947738534935-Ironclad-AI-Overview\n",
    "class KeyInformation(BaseModel):\n",
    "    agreement_date: str = Field(description=\"Agreement signing date of the contract. (date)\")\n",
    "    effective_date: str = Field(description=\"Effective date of the contract. (date)\")\n",
    "    expiration_date: str = Field(description=\"Service end date or expiration date of the contract. (date)\")\n",
    "    party_address: str = Field(description=\"Address of the party to the contract.\")\n",
    "    party_name: str = Field(description=\"The names of the contracting party.\")\n",
    "    counterparty_address: str = Field(description=\"Address of the counterparty to the contract.\")\n",
    "    counterparty_name: str = Field(description=\"The names of the contracting counterparty.\")\n",
    "    counterparty_signer_name: str = Field(\n",
    "        description=\"The name of the counterparty signer for each party to the agreement.\")\n",
    "    counterparty_signer_title: str = Field(description=\"The counterparty signer’s title (e.g., CEO).\")\n",
    "    auto_renewal: str = Field(description=\"Whether the contract term automatically renews (true/false).\")\n",
    "    governing_law: str = Field(description=\"(Jurisdiction) Choice of law.\")\n",
    "    venue: str = Field(description=\"Location of the courts where legal proceedings will take place.\")\n",
    "    payment_frequency: str = Field(\n",
    "        description=\"The cadence for which payments are made (e.g., monthly, annually, one-time).\")\n",
    "    payment_term: str = Field(description=\"When an invoice is due after issuance (e.g. Net 30)\")\n",
    "    renewal_term: str = Field(\n",
    "        description=\"The length of time the renewal period will last (e.g., 1 year, 2 years, 24 months etc.).\")\n",
    "    agreement_term: str = Field(description=\"Term of the contract as an amount of time (e.g., 24 months).\")\n",
    "    termination_for_cause: str = Field(\n",
    "        description=\"Whether one or all parties may terminate the contract with cause, such as a breach of contract (true/false).\")\n",
    "    termination_for_convenience: str = Field(\n",
    "        description=\"Whether one or all parties may terminate the contract without cause, or at their convenience (true/false).\")\n",
    "    termination_notice_period: str = Field(\n",
    "        description=\"The period by which notice of termination must be given (e.g., 30 days).\")\n",
    "    opt_out_length: str = Field(description=\"Required notice period to NOT renew (e.g., 30 days).\")\n",
    "    contract_value: str = Field(\n",
    "        description=\"Total fixed fee amount including currency codes or symbols. (monetary amount)\")\n",
    "\n",
    "\n",
    "load_dotenv()\n",
    "model = ChatOpenAI(model=\"gpt-4o\", max_retries=2).with_structured_output(KeyInformation)\n",
    "chain = model"
   ],
   "id": "9e00895515f4d40c",
   "outputs": [],
   "execution_count": null
  },
  {
   "metadata": {},
   "cell_type": "code",
   "source": [
    "def text2qa(record):\n",
    "    page_text = record['page_text']\n",
    "    content = \"\\n\\n\".join(page_text)\n",
    "\n",
    "    messages = [\n",
    "        SystemMessage(\n",
    "            content='''You are a legal expert who is helping a client understand a contract. The client asks you to extract the key information for the given contract and return them in a structured format. Use N/A if not applicable or not available.'''),\n",
    "        HumanMessage(content=content),\n",
    "    ]\n",
    "\n",
    "    results = chain.invoke(messages)\n",
    "\n",
    "    return dict(results)"
   ],
   "id": "768bc4fbbc21c5c2",
   "outputs": [],
   "execution_count": null
  },
  {
   "metadata": {},
   "cell_type": "code",
   "source": "# text2qa(final_sample[0])",
   "id": "9a8e198f31bf4661",
   "outputs": [],
   "execution_count": null
  },
  {
   "metadata": {},
   "cell_type": "code",
   "source": [
    "data = final_sample\n",
    "results = [None for _ in data]\n",
    "errors = list(range(len(data)))\n",
    "while errors:\n",
    "    new_errors = []\n",
    "    for i in tqdm.tqdm(errors):\n",
    "        try:\n",
    "            qa = text2qa(data[i])\n",
    "            results[i] = qa\n",
    "            time.sleep(5)\n",
    "\n",
    "        except Exception as e:\n",
    "            print(f\"Error at {i}: {e}\")\n",
    "            new_errors.append(i)\n",
    "            continue\n",
    "\n",
    "    errors = new_errors\n",
    "    cont = input(f\"Found {len(errors)} errors. Continue? (y/n)\")\n",
    "    if cont.lower() != \"y\":\n",
    "        break"
   ],
   "id": "585a162275b19e46",
   "outputs": [],
   "execution_count": null
  },
  {
   "metadata": {},
   "cell_type": "code",
   "source": [
    "output = []\n",
    "for i, record in enumerate(final_sample):\n",
    "    output.append(record | results[i])\n",
    "\n",
    "import pandas as pd\n",
    "from datasets import Dataset\n",
    "\n",
    "df = pd.DataFrame(output)\n",
    "ds = Dataset.from_pandas(df)\n",
    "ds.save_to_disk(\"temp-data\")"
   ],
   "id": "34158a20d3930690",
   "outputs": [],
   "execution_count": null
  },
  {
   "metadata": {},
   "cell_type": "code",
   "source": "ds.push_to_hub(\"chenghao/sec-material-contracts-qa\")",
   "id": "839ad887bff82614",
   "outputs": [],
   "execution_count": null
  },
  {
   "metadata": {},
   "cell_type": "code",
   "source": "# !pip install -q transformers tokenizers quanto accelerate bitsandbytes -U",
   "id": "466eb72ab4ab2c8c",
   "outputs": [],
   "execution_count": null
  },
  {
   "metadata": {},
   "cell_type": "markdown",
   "source": "## Quick test of Idefics2 on the Dataset",
   "id": "28425eb478e718d"
  },
  {
   "metadata": {},
   "cell_type": "code",
   "source": [
    "import io\n",
    "\n",
    "import torch\n",
    "\n",
    "from datasets import load_from_disk\n",
    "from PIL import Image\n",
    "from transformers import Idefics2Processor, Idefics2ForConditionalGeneration\n",
    "from IPython.display import display\n",
    "\n",
    "ds = load_from_disk(\"temp-data\")"
   ],
   "id": "8fe0abdf441c936f",
   "outputs": [],
   "execution_count": null
  },
  {
   "metadata": {},
   "cell_type": "code",
   "source": [
    "device = \"mps\"\n",
    "model_id = \"HuggingFaceM4/idefics2-8b\"\n",
    "model = Idefics2ForConditionalGeneration.from_pretrained(model_id, device_map=device, torch_dtype=torch.float16)\n",
    "model.eval()"
   ],
   "id": "defa3946e3f24325",
   "outputs": [],
   "execution_count": null
  },
  {
   "metadata": {},
   "cell_type": "code",
   "source": [
    "idx = 0\n",
    "images = [Image.open(io.BytesIO(ds[idx]['images'][i]['bytes'])) for i in range(len(ds[idx]['images']))]\n",
    "answer = ds[idx]['counterparty_signer_name']\n",
    "\n",
    "messages = [{\n",
    "    \"role\": \"user\",\n",
    "    \"content\": [\n",
    "        *[{\"type\": \"image\"} for _ in range(len(images))],\n",
    "        {\"type\": \"text\", \"text\": \"Who is the counter party signer?\"},\n",
    "    ],\n",
    "}]\n",
    "processor = Idefics2Processor.from_pretrained(\"HuggingFaceM4/idefics2-8b\")\n",
    "text = processor.apply_chat_template(messages, add_generation_prompt=True)\n",
    "print(text, answer)\n",
    "\n",
    "display(*images)"
   ],
   "id": "7bb7dd4c9c989967",
   "outputs": [],
   "execution_count": null
  },
  {
   "metadata": {},
   "cell_type": "code",
   "source": [
    "with torch.no_grad():\n",
    "    inputs = processor(images=images, text=text, return_tensors=\"pt\").to(device)\n",
    "    generated_text = model.generate(**inputs, max_new_tokens=50)\n",
    "    generated_text = processor.batch_decode(generated_text, skip_special_tokens=True)[0]\n",
    "    print(\"Generated text:\", generated_text)"
   ],
   "id": "ae50509d58666b22",
   "outputs": [],
   "execution_count": null
  },
  {
   "metadata": {},
   "cell_type": "code",
   "source": "",
   "id": "e05b0f2779070541",
   "outputs": [],
   "execution_count": null
  }
 ],
 "metadata": {
  "kernelspec": {
   "display_name": "Python 3",
   "language": "python",
   "name": "python3"
  },
  "language_info": {
   "codemirror_mode": {
    "name": "ipython",
    "version": 2
   },
   "file_extension": ".py",
   "mimetype": "text/x-python",
   "name": "python",
   "nbconvert_exporter": "python",
   "pygments_lexer": "ipython2",
   "version": "2.7.6"
  }
 },
 "nbformat": 4,
 "nbformat_minor": 5
}
